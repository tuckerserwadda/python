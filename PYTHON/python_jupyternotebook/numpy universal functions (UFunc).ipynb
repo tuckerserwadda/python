{
 "cells": [
  {
   "cell_type": "code",
   "execution_count": 1,
   "metadata": {},
   "outputs": [],
   "source": [
    "import numpy as np"
   ]
  },
  {
   "cell_type": "code",
   "execution_count": 2,
   "metadata": {},
   "outputs": [],
   "source": [
    "x = np.array([3, 4, 5, 6, 8])"
   ]
  },
  {
   "cell_type": "markdown",
   "metadata": {},
   "source": [
    "#### arithematic operations\n",
    "\n",
    "Operator\tEquivalent ufunc\tDescription\n",
    "+\t        np.add\t            Addition (e.g., 1 + 1 = 2)\n",
    "-\t        np.subtract\t        Subtraction (e.g., 3 - 2 = 1)\n",
    "-\t        np.negative\t        Unary negation (e.g., -2)\n",
    "*\t        np.multiply\t        Multiplication (e.g., 2 * 3 = 6)\n",
    "/\t        np.divide\t        Division (e.g., 3 / 2 = 1.5)\n",
    "//\t        np.floor_divide\tFloor division (e.g., 3 // 2 = 1)\n",
    "**       \tnp.power\t        Exponentiation (e.g., 2 ** 3 = 8)\n",
    "%\t        np.mod\t            Modulus/remainder (e.g., 9 % 4 = 1)"
   ]
  },
  {
   "cell_type": "code",
   "execution_count": 3,
   "metadata": {},
   "outputs": [
    {
     "name": "stdout",
     "output_type": "stream",
     "text": [
      "[13 14 15 16 18]\n"
     ]
    }
   ],
   "source": [
    "add = np.add(x, 10)\n",
    "print(add)"
   ]
  },
  {
   "cell_type": "code",
   "execution_count": 5,
   "metadata": {},
   "outputs": [
    {
     "name": "stdout",
     "output_type": "stream",
     "text": [
      "[[15 25 35]\n",
      " [40 45 10]\n",
      " [20 50 55]]\n"
     ]
    }
   ],
   "source": [
    "y = np.array([[3, 5, 7],\n",
    "              [8, 9, 2],\n",
    "              [4, 10, 11]])\n",
    "mult = np.multiply(y, 5)\n",
    "print(mult)"
   ]
  },
  {
   "cell_type": "code",
   "execution_count": 6,
   "metadata": {},
   "outputs": [
    {
     "name": "stdout",
     "output_type": "stream",
     "text": [
      "[[  9  25  49]\n",
      " [ 64  81   4]\n",
      " [ 16 100 121]]\n"
     ]
    }
   ],
   "source": [
    "powers = np.power(y, 2)\n",
    "print (powers)"
   ]
  },
  {
   "cell_type": "markdown",
   "metadata": {},
   "source": [
    "######  trigonometric functions (np.function(array))\n",
    "\n",
    "###### sin, cos, tan\t      \n",
    "compute sine, cosine and tangent of angles\n",
    "###### arcsin, arccos, arctan\t\n",
    "calculate inverse sine, cosine and tangent\n",
    "###### hypot\t              \n",
    "calculate hypotenuse of given right triangle\n",
    "###### sinh, cosh, tanh\t  \n",
    "compute hyperbolic sine, cosine and tangent\n",
    "###### arcsinh, arccosh, arctanh\t \n",
    "compute inverse hyperbolic sine, cosine and tangent\n",
    "###### deg2rad\t                 \n",
    "convert degree into radians\n",
    "###### rad2deg\t                 \n",
    "convert radians into degree"
   ]
  },
  {
   "cell_type": "markdown",
   "metadata": {},
   "source": [
    "#### example"
   ]
  },
  {
   "cell_type": "code",
   "execution_count": 9,
   "metadata": {},
   "outputs": [
    {
     "name": "stdout",
     "output_type": "stream",
     "text": [
      "[0.5        0.64278761 0.98480775]\n"
     ]
    }
   ],
   "source": [
    "angles = np.array([30, 40, 80])\n",
    "radian = np.deg2rad(angles)\n",
    "sine = np.sin(radian)\n",
    "print(sine)"
   ]
  },
  {
   "cell_type": "code",
   "execution_count": 11,
   "metadata": {},
   "outputs": [
    {
     "name": "stdout",
     "output_type": "stream",
     "text": [
      "[0.52109531 0.68797516 1.15189305]\n"
     ]
    }
   ],
   "source": [
    "arc = np.sinh(sine)\n",
    "print(arc)"
   ]
  },
  {
   "cell_type": "markdown",
   "metadata": {},
   "source": [
    "###### statistical function\n",
    "###### amin, amax\t\n",
    "returns minimum or maximum of an array or along an axis\n",
    "###### ptp\t\n",
    "returns range of values (maximum-minimum) of an array or along an axis\n",
    "###### percentile(a, p, axis)\t\n",
    "calculate pth percentile of array or along specified\n",
    "axis\n",
    ".Percentiles are used in statistics to give you a number that describes the value that a given percent of the values are lower than\n",
    "Example: Let's say we have an array of the ages of all the people that lives in a street.\n",
    "\n",
    "ages = [5,31,43,48,50,41,7,11,15,39,80,82,32,2,8,6,25,36,27,61,31]\n",
    "\n",
    "What is the 75. percentile? The answer is 43, meaning that 75% of the people are 43 or younger.\n",
    "###### median\t\n",
    "compute median of data along specified axis\n",
    "###### mean\t\n",
    "compute mean of data along specified axis\n",
    "###### std\t\n",
    "compute standard deviation of data along specified axis\n",
    "###### var\t\n",
    "compute variance of data along specified axis\n",
    "###### average\t\n",
    "compute average of data along specified axis\n"
   ]
  },
  {
   "cell_type": "markdown",
   "metadata": {},
   "source": [
    "#### example"
   ]
  },
  {
   "cell_type": "code",
   "execution_count": 12,
   "metadata": {},
   "outputs": [
    {
     "name": "stdout",
     "output_type": "stream",
     "text": [
      "170.66666666666666\n"
     ]
    }
   ],
   "source": [
    "num = np.array([30, 45, 10, 20, 47, 34])\n",
    "variance = np.var(num)\n",
    "print(variance)"
   ]
  },
  {
   "cell_type": "code",
   "execution_count": 69,
   "metadata": {},
   "outputs": [
    {
     "name": "stdout",
     "output_type": "stream",
     "text": [
      "47\n"
     ]
    }
   ],
   "source": [
    "print(num.max())"
   ]
  },
  {
   "cell_type": "code",
   "execution_count": 13,
   "metadata": {},
   "outputs": [
    {
     "name": "stdout",
     "output_type": "stream",
     "text": [
      "37\n"
     ]
    }
   ],
   "source": [
    "ranges = np.ptp(num)\n",
    "print(ranges)"
   ]
  },
  {
   "cell_type": "code",
   "execution_count": 16,
   "metadata": {},
   "outputs": [
    {
     "name": "stdout",
     "output_type": "stream",
     "text": [
      "39.5\n"
     ]
    }
   ],
   "source": [
    "perc = np.percentile(num, 70)\n",
    "print(perc)"
   ]
  },
  {
   "cell_type": "markdown",
   "metadata": {},
   "source": [
    "###### logarithms\n",
    "log2 and log10"
   ]
  },
  {
   "cell_type": "code",
   "execution_count": 21,
   "metadata": {},
   "outputs": [
    {
     "data": {
      "text/plain": [
       "array([3, 4, 5, 6, 8])"
      ]
     },
     "execution_count": 21,
     "metadata": {},
     "output_type": "execute_result"
    }
   ],
   "source": [
    "x"
   ]
  },
  {
   "cell_type": "code",
   "execution_count": 23,
   "metadata": {},
   "outputs": [
    {
     "name": "stdout",
     "output_type": "stream",
     "text": [
      "[1.5849625  2.         2.32192809 2.5849625  3.        ]\n"
     ]
    }
   ],
   "source": [
    "log2 = np.log2(x)\n",
    "print(log2)"
   ]
  },
  {
   "cell_type": "code",
   "execution_count": 24,
   "metadata": {},
   "outputs": [
    {
     "data": {
      "text/plain": [
       "array([[ 3,  5,  7],\n",
       "       [ 8,  9,  2],\n",
       "       [ 4, 10, 11]])"
      ]
     },
     "execution_count": 24,
     "metadata": {},
     "output_type": "execute_result"
    }
   ],
   "source": [
    "y"
   ]
  },
  {
   "cell_type": "code",
   "execution_count": 28,
   "metadata": {},
   "outputs": [
    {
     "name": "stdout",
     "output_type": "stream",
     "text": [
      "[[0.47712125 0.69897    0.84509804]\n",
      " [0.90308999 0.95424251 0.30103   ]\n",
      " [0.60205999 1.         1.04139269]]\n"
     ]
    }
   ],
   "source": [
    "log10 = np.log10(y)\n",
    "print(log10)"
   ]
  },
  {
   "cell_type": "markdown",
   "metadata": {},
   "source": [
    "### advanced ufunc"
   ]
  },
  {
   "cell_type": "markdown",
   "metadata": {},
   "source": [
    "###### specifying the array to store the outcome "
   ]
  },
  {
   "cell_type": "code",
   "execution_count": 39,
   "metadata": {},
   "outputs": [
    {
     "name": "stdout",
     "output_type": "stream",
     "text": [
      "[ 8. 16. 24. 32. 40.]\n"
     ]
    }
   ],
   "source": [
    "z = np.arange(1, 6)\n",
    "v = np.empty(5) # empty array to store the out come\n",
    "np.multiply(z, 8, out=v)\n",
    "print(v)"
   ]
  },
  {
   "cell_type": "markdown",
   "metadata": {},
   "source": [
    "######  specifying how the outcome should be "
   ]
  },
  {
   "cell_type": "code",
   "execution_count": 54,
   "metadata": {},
   "outputs": [
    {
     "name": "stdout",
     "output_type": "stream",
     "text": [
      "[16 24 32 40 48 56]\n",
      "[16 32 48]\n"
     ]
    }
   ],
   "source": [
    "w = np.arange(2, 8)\n",
    "s = np.multiply.outer(w,8)\n",
    "print(s)\n",
    "print(s[::2])"
   ]
  },
  {
   "cell_type": "markdown",
   "metadata": {},
   "source": [
    "######  using reduce\n",
    "this reduces the array using the operand and displays the final answer. for example an array x= [2, 5, 6, 7] using np.add.reduce(x) will be (2+5+6+7) giving the result as 20"
   ]
  },
  {
   "cell_type": "code",
   "execution_count": 58,
   "metadata": {},
   "outputs": [
    {
     "name": "stdout",
     "output_type": "stream",
     "text": [
      "[4 5 6 7 8]\n",
      "30\n"
     ]
    }
   ],
   "source": [
    "q = np.arange(4, 9)\n",
    "p= np.add.reduce(q)\n",
    "print(q)\n",
    "print(p)"
   ]
  },
  {
   "cell_type": "markdown",
   "metadata": {},
   "source": [
    "###### using accumulate\n",
    "this gives the acculative value"
   ]
  },
  {
   "cell_type": "code",
   "execution_count": 60,
   "metadata": {},
   "outputs": [
    {
     "data": {
      "text/plain": [
       "array([4, 5, 6, 7, 8])"
      ]
     },
     "execution_count": 60,
     "metadata": {},
     "output_type": "execute_result"
    }
   ],
   "source": [
    "q"
   ]
  },
  {
   "cell_type": "code",
   "execution_count": 59,
   "metadata": {},
   "outputs": [
    {
     "name": "stdout",
     "output_type": "stream",
     "text": [
      "[ 4  9 15 22 30]\n"
     ]
    }
   ],
   "source": [
    "print(np.add.accumulate(q))"
   ]
  },
  {
   "cell_type": "markdown",
   "metadata": {},
   "source": [
    "###### the outer function\n",
    "this can compute a pair of two different in puts"
   ]
  },
  {
   "cell_type": "code",
   "execution_count": 68,
   "metadata": {},
   "outputs": [
    {
     "name": "stdout",
     "output_type": "stream",
     "text": [
      "g =  [2 3 4 5]\n",
      "h =  [2 3 4 5]\n",
      "g x h =  \n",
      " [[ 4  6  8 10]\n",
      " [ 6  9 12 15]\n",
      " [ 8 12 16 20]\n",
      " [10 15 20 25]]\n"
     ]
    }
   ],
   "source": [
    "g = np.arange(2, 6)\n",
    "h = np.arange(2,6)\n",
    "gxh = np.multiply.outer(g ,h)\n",
    "print(\"g = \", g)\n",
    "print(\"h = \", h)\n",
    "print(\"g x h = \",\"\\n\", gxh)"
   ]
  },
  {
   "cell_type": "code",
   "execution_count": 61,
   "metadata": {},
   "outputs": [],
   "source": [
    "x = np.arange(1, 5)\n",
    "y= np.multiply.outer(x, x)"
   ]
  },
  {
   "cell_type": "code",
   "execution_count": 62,
   "metadata": {
    "scrolled": true
   },
   "outputs": [
    {
     "data": {
      "text/plain": [
       "array([[ 1,  2,  3,  4],\n",
       "       [ 2,  4,  6,  8],\n",
       "       [ 3,  6,  9, 12],\n",
       "       [ 4,  8, 12, 16]])"
      ]
     },
     "execution_count": 62,
     "metadata": {},
     "output_type": "execute_result"
    }
   ],
   "source": [
    "y"
   ]
  },
  {
   "cell_type": "code",
   "execution_count": null,
   "metadata": {},
   "outputs": [],
   "source": []
  }
 ],
 "metadata": {
  "kernelspec": {
   "display_name": "Python 3",
   "language": "python",
   "name": "python3"
  },
  "language_info": {
   "codemirror_mode": {
    "name": "ipython",
    "version": 3
   },
   "file_extension": ".py",
   "mimetype": "text/x-python",
   "name": "python",
   "nbconvert_exporter": "python",
   "pygments_lexer": "ipython3",
   "version": "3.7.6"
  }
 },
 "nbformat": 4,
 "nbformat_minor": 4
}
