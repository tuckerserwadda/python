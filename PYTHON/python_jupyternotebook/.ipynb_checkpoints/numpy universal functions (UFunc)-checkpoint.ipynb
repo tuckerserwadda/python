{
 "cells": [
  {
   "cell_type": "code",
   "execution_count": 1,
   "metadata": {},
   "outputs": [],
   "source": [
    "import numpy as np"
   ]
  },
  {
   "cell_type": "code",
   "execution_count": 2,
   "metadata": {},
   "outputs": [],
   "source": [
    "x = np.array([3, 4, 5, 6, 8])"
   ]
  },
  {
   "cell_type": "markdown",
   "metadata": {},
   "source": [
    "#### arithematic operations\n",
    "\n",
    "Operator\tEquivalent ufunc\tDescription\n",
    "+\t        np.add\t            Addition (e.g., 1 + 1 = 2)\n",
    "-\t        np.subtract\t        Subtraction (e.g., 3 - 2 = 1)\n",
    "-\t        np.negative\t        Unary negation (e.g., -2)\n",
    "*\t        np.multiply\t        Multiplication (e.g., 2 * 3 = 6)\n",
    "/\t        np.divide\t        Division (e.g., 3 / 2 = 1.5)\n",
    "//\t        np.floor_divide\tFloor division (e.g., 3 // 2 = 1)\n",
    "**       \tnp.power\t        Exponentiation (e.g., 2 ** 3 = 8)\n",
    "%\t        np.mod\t            Modulus/remainder (e.g., 9 % 4 = 1)"
   ]
  },
  {
   "cell_type": "code",
   "execution_count": 3,
   "metadata": {},
   "outputs": [
    {
     "name": "stdout",
     "output_type": "stream",
     "text": [
      "[13 14 15 16 18]\n"
     ]
    }
   ],
   "source": [
    "add = np.add(x, 10)\n",
    "print(add)"
   ]
  },
  {
   "cell_type": "code",
   "execution_count": 5,
   "metadata": {},
   "outputs": [
    {
     "name": "stdout",
     "output_type": "stream",
     "text": [
      "[[15 25 35]\n",
      " [40 45 10]\n",
      " [20 50 55]]\n"
     ]
    }
   ],
   "source": [
    "y = np.array([[3, 5, 7],\n",
    "              [8, 9, 2],\n",
    "              [4, 10, 11]])\n",
    "mult = np.multiply(y, 5)\n",
    "print(mult)"
   ]
  },
  {
   "cell_type": "code",
   "execution_count": 6,
   "metadata": {},
   "outputs": [
    {
     "name": "stdout",
     "output_type": "stream",
     "text": [
      "[[  9  25  49]\n",
      " [ 64  81   4]\n",
      " [ 16 100 121]]\n"
     ]
    }
   ],
   "source": [
    "powers = np.power(y, 2)\n",
    "print (powers)"
   ]
  },
  {
   "cell_type": "markdown",
   "metadata": {},
   "source": [
    "######  trigonometric functions (np.function(array))\n",
    "\n",
    "###### sin, cos, tan\t      \n",
    "compute sine, cosine and tangent of angles\n",
    "###### arcsin, arccos, arctan\t\n",
    "calculate inverse sine, cosine and tangent\n",
    "###### hypot\t              \n",
    "calculate hypotenuse of given right triangle\n",
    "###### sinh, cosh, tanh\t  \n",
    "compute hyperbolic sine, cosine and tangent\n",
    "###### arcsinh, arccosh, arctanh\t \n",
    "compute inverse hyperbolic sine, cosine and tangent\n",
    "###### deg2rad\t                 \n",
    "convert degree into radians\n",
    "###### rad2deg\t                 \n",
    "convert radians into degree"
   ]
  },
  {
   "cell_type": "code",
   "execution_count": 9,
   "metadata": {},
   "outputs": [
    {
     "name": "stdout",
     "output_type": "stream",
     "text": [
      "[0.5        0.64278761 0.98480775]\n"
     ]
    }
   ],
   "source": [
    "angles = np.array([30, 40, 80])\n",
    "radian = np.deg2rad(angles)\n",
    "sine = np.sin(radian)\n",
    "print(sine)"
   ]
  },
  {
   "cell_type": "code",
   "execution_count": 11,
   "metadata": {},
   "outputs": [
    {
     "name": "stdout",
     "output_type": "stream",
     "text": [
      "[0.52109531 0.68797516 1.15189305]\n"
     ]
    }
   ],
   "source": [
    "arc = np.sinh(sine)\n",
    "print(arc)"
   ]
  },
  {
   "cell_type": "code",
   "execution_count": null,
   "metadata": {},
   "outputs": [],
   "source": []
  }
 ],
 "metadata": {
  "kernelspec": {
   "display_name": "Python 3",
   "language": "python",
   "name": "python3"
  },
  "language_info": {
   "codemirror_mode": {
    "name": "ipython",
    "version": 3
   },
   "file_extension": ".py",
   "mimetype": "text/x-python",
   "name": "python",
   "nbconvert_exporter": "python",
   "pygments_lexer": "ipython3",
   "version": "3.7.6"
  }
 },
 "nbformat": 4,
 "nbformat_minor": 4
}
